{
 "cells": [
  {
   "cell_type": "code",
   "execution_count": 1,
   "metadata": {},
   "outputs": [
    {
     "data": {
      "text/plain": [
       "'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'"
      ]
     },
     "execution_count": 1,
     "metadata": {},
     "output_type": "execute_result"
    }
   ],
   "source": [
    "import os \n",
    "from dotenv import load_dotenv\n",
    "load_dotenv()\n",
    "\n",
    "groq_api_key = os.getenv(\"GROQ_API_KEY\")\n",
    "groq_api_key"
   ]
  },
  {
   "cell_type": "code",
   "execution_count": 2,
   "metadata": {},
   "outputs": [
    {
     "data": {
      "text/plain": [
       "ChatGroq(client=<groq.resources.chat.completions.Completions object at 0x000001EAC740D210>, async_client=<groq.resources.chat.completions.AsyncCompletions object at 0x000001EAC771B090>, model_name='Gemma2-9b-It', model_kwargs={}, groq_api_key=SecretStr('**********'))"
      ]
     },
     "execution_count": 2,
     "metadata": {},
     "output_type": "execute_result"
    }
   ],
   "source": [
    "from langchain_groq import ChatGroq\n",
    "\n",
    "model = ChatGroq(model='Gemma2-9b-It', groq_api_key=groq_api_key)\n",
    "model"
   ]
  },
  {
   "cell_type": "code",
   "execution_count": 3,
   "metadata": {},
   "outputs": [
    {
     "data": {
      "text/plain": [
       "AIMessage(content=\"Hello Channappa! \\n\\nWelcome to the world of Generative AI! It's great to have you here.  \\n\\nAs a beginner, you're starting on an exciting journey. Generative AI is a rapidly evolving field with incredible potential.  \\n\\nIs there anything specific you'd like to know or explore about Generative AI? I can help you with:\\n\\n* **Understanding the basics:** What is Generative AI? How does it work?\\n* **Exploring different types of Generative AI:**  Text generation, image generation, music composition, code generation, and more.\\n* **Learning about popular tools and models:**  ChatGPT, DALL-E 2, Stable Diffusion, and others.\\n* **Getting started with hands-on projects:** I can suggest some simple projects to help you learn by doing.\\n\\nJust let me know what you're curious about, and I'll do my best to guide you.  🚀\\n\", additional_kwargs={}, response_metadata={'token_usage': {'completion_tokens': 201, 'prompt_tokens': 26, 'total_tokens': 227, 'completion_time': 0.365454545, 'prompt_time': 0.00013984, 'queue_time': 0.019972598, 'total_time': 0.365594385}, 'model_name': 'Gemma2-9b-It', 'system_fingerprint': 'fp_10c08bf97d', 'finish_reason': 'stop', 'logprobs': None}, id='run-5a608822-df5f-4b71-aa93-d6039094dc08-0', usage_metadata={'input_tokens': 26, 'output_tokens': 201, 'total_tokens': 227})"
      ]
     },
     "execution_count": 3,
     "metadata": {},
     "output_type": "execute_result"
    }
   ],
   "source": [
    "from langchain_core.messages import HumanMessage, SystemMessage\n",
    "model.invoke([HumanMessage(content='Hi, My name is channapppa and I am a beginner in Gen Ai')])"
   ]
  },
  {
   "cell_type": "code",
   "execution_count": 14,
   "metadata": {},
   "outputs": [
    {
     "data": {
      "text/plain": [
       "AIMessage(content=\"According to our conversation, your name is Channappa and you are a beginner in Generative AI. \\n\\nIs there anything else you'd like to tell me about yourself? I'm eager to learn more! 😊  \\n\\n\", additional_kwargs={}, response_metadata={'token_usage': {'completion_tokens': 51, 'prompt_tokens': 213, 'total_tokens': 264, 'completion_time': 0.092727273, 'prompt_time': 0.006682708, 'queue_time': 0.02232232, 'total_time': 0.099409981}, 'model_name': 'Gemma2-9b-It', 'system_fingerprint': 'fp_10c08bf97d', 'finish_reason': 'stop', 'logprobs': None}, id='run-bd6b1ad0-5c4c-4084-9d43-9b1aa7a8f48d-0', usage_metadata={'input_tokens': 213, 'output_tokens': 51, 'total_tokens': 264})"
      ]
     },
     "execution_count": 14,
     "metadata": {},
     "output_type": "execute_result"
    }
   ],
   "source": [
    "from langchain_core.messages import AIMessage\n",
    "\n",
    "model.invoke(\n",
    "    [\n",
    "        HumanMessage(content='Hi, My name is channapppa and I am a beginner in Gen Ai'),\n",
    "        AIMessage(content=\"Hello Channappa, \\n\\nWelcome to the world of Generative AI! It's great to have you here.  \\n\\nSince you're just starting out, I can help you get your feet wet.  What are you most curious about in Gen AI? \\n\\nFor example, are you interested in:\\n\\n* **Learning how different types of Gen AI models work?** (like text generators, image creators, music composers)\\n* **Exploring some of the cool things people are doing with Gen AI?** (writing stories, creating art, summarizing text)\\n* **Understanding the ethical considerations surrounding Gen AI?** \\n* **Getting hands-on and trying out some Gen AI tools yourself?**\\n\\n\\nLet me know what sparks your interest, and I'll do my best to guide you!\\n\"),\n",
    "        HumanMessage(content='Hey What is my name and what i do')\n",
    "    ]\n",
    ")"
   ]
  },
  {
   "cell_type": "code",
   "execution_count": 15,
   "metadata": {},
   "outputs": [],
   "source": [
    "from langchain_community.chat_message_histories import ChatMessageHistory\n",
    "from langchain_core.chat_history import BaseChatMessageHistory\n",
    "from langchain_core.runnables.history import RunnableWithMessageHistory"
   ]
  },
  {
   "cell_type": "code",
   "execution_count": 16,
   "metadata": {},
   "outputs": [],
   "source": [
    "store={}\n",
    "\n",
    "def get_session_history(session_id:str)->BaseChatMessageHistory:\n",
    "    if session_id not in store:\n",
    "        store[session_id] = ChatMessageHistory()\n",
    "    return store[session_id]\n",
    "\n",
    "\n",
    "with_message_history = RunnableWithMessageHistory(model, get_session_history)"
   ]
  },
  {
   "cell_type": "code",
   "execution_count": 19,
   "metadata": {},
   "outputs": [
    {
     "data": {
      "text/plain": [
       "\"Hello Channappa! It's nice to meet you. 😊 \\n\\nIs there anything I can help you with today?\\n\""
      ]
     },
     "execution_count": 19,
     "metadata": {},
     "output_type": "execute_result"
    }
   ],
   "source": [
    "config = {'configurable':{'session_id':'chat1'}}\n",
    "response=with_message_history.invoke(\n",
    "    [HumanMessage(content=\"Hi name is channappa\")],\n",
    "    config=config\n",
    ")\n",
    "response.content"
   ]
  },
  {
   "cell_type": "code",
   "execution_count": 21,
   "metadata": {},
   "outputs": [
    {
     "data": {
      "text/plain": [
       "'Your name is Channappa.  \\n\\nDo you have any other questions for me? 😊  \\n'"
      ]
     },
     "execution_count": 21,
     "metadata": {},
     "output_type": "execute_result"
    }
   ],
   "source": [
    "response = with_message_history.invoke(\n",
    "    [HumanMessage(content='what is my name')],\n",
    "    config=config\n",
    ")\n",
    "response.content"
   ]
  },
  {
   "cell_type": "code",
   "execution_count": 24,
   "metadata": {},
   "outputs": [],
   "source": [
    "from langchain_core.prompts import ChatPromptTemplate, MessagesPlaceholder\n",
    "prompt = ChatPromptTemplate.from_messages(\n",
    "    [\n",
    "        (\"system\", \"You are a helpful assistent. Answer best of your ability\"),\n",
    "        MessagesPlaceholder(variable_name='messages')\n",
    "    ]\n",
    ")\n",
    "chain = prompt| model"
   ]
  },
  {
   "cell_type": "code",
   "execution_count": 25,
   "metadata": {},
   "outputs": [
    {
     "data": {
      "text/plain": [
       "AIMessage(content=\"Hi Channu, it's nice to meet you! 👋 \\n\\nWhat can I help you with today? 😄  \\n\\n\", additional_kwargs={}, response_metadata={'token_usage': {'completion_tokens': 29, 'prompt_tokens': 27, 'total_tokens': 56, 'completion_time': 0.052727273, 'prompt_time': 0.00013824, 'queue_time': 0.019859988999999998, 'total_time': 0.052865513}, 'model_name': 'Gemma2-9b-It', 'system_fingerprint': 'fp_10c08bf97d', 'finish_reason': 'stop', 'logprobs': None}, id='run-52c80115-2acf-4a70-b599-876b4c476983-0', usage_metadata={'input_tokens': 27, 'output_tokens': 29, 'total_tokens': 56})"
      ]
     },
     "execution_count": 25,
     "metadata": {},
     "output_type": "execute_result"
    }
   ],
   "source": [
    "chain.invoke({\"messages\":[HumanMessage(content='Hi My name is channu')]})"
   ]
  },
  {
   "cell_type": "code",
   "execution_count": 26,
   "metadata": {},
   "outputs": [],
   "source": [
    "with_message_history = RunnableWithMessageHistory(chain, get_session_history)\n"
   ]
  },
  {
   "cell_type": "code",
   "execution_count": 27,
   "metadata": {},
   "outputs": [
    {
     "data": {
      "text/plain": [
       "AIMessage(content=\"Hi Channu, it's nice to meet you! \\n\\nHow can I help you today? 😊  \\n\", additional_kwargs={}, response_metadata={'token_usage': {'completion_tokens': 26, 'prompt_tokens': 27, 'total_tokens': 53, 'completion_time': 0.047272727, 'prompt_time': 0.000147379, 'queue_time': 0.020430839, 'total_time': 0.047420106}, 'model_name': 'Gemma2-9b-It', 'system_fingerprint': 'fp_10c08bf97d', 'finish_reason': 'stop', 'logprobs': None}, id='run-f8eeabc3-10ac-41bd-ad63-b54cc5177679-0', usage_metadata={'input_tokens': 27, 'output_tokens': 26, 'total_tokens': 53})"
      ]
     },
     "execution_count": 27,
     "metadata": {},
     "output_type": "execute_result"
    }
   ],
   "source": [
    "config= {\"configurable\":{\"session_id\":\"chat3\"}}\n",
    "response = with_message_history.invoke(\n",
    "    [HumanMessage(content='Hi my name is channu')],\n",
    "    config=config\n",
    ")\n",
    "response"
   ]
  },
  {
   "cell_type": "code",
   "execution_count": 28,
   "metadata": {},
   "outputs": [
    {
     "data": {
      "text/plain": [
       "AIMessage(content='Your name is Channu!  I remember. 😊  \\n\\nIs there anything else I can help you with?\\n', additional_kwargs={}, response_metadata={'token_usage': {'completion_tokens': 26, 'prompt_tokens': 65, 'total_tokens': 91, 'completion_time': 0.047272727, 'prompt_time': 0.002044013, 'queue_time': 0.019583285, 'total_time': 0.04931674}, 'model_name': 'Gemma2-9b-It', 'system_fingerprint': 'fp_10c08bf97d', 'finish_reason': 'stop', 'logprobs': None}, id='run-09608c45-8e69-4af0-8f8f-3bb043f4bc23-0', usage_metadata={'input_tokens': 65, 'output_tokens': 26, 'total_tokens': 91})"
      ]
     },
     "execution_count": 28,
     "metadata": {},
     "output_type": "execute_result"
    }
   ],
   "source": [
    "\n",
    "response = with_message_history.invoke(\n",
    "    [HumanMessage(content='whats my name?')],\n",
    "    config=config\n",
    ")\n",
    "response"
   ]
  },
  {
   "cell_type": "code",
   "execution_count": 29,
   "metadata": {},
   "outputs": [],
   "source": [
    "prompt = ChatPromptTemplate.from_messages(\n",
    "    [\n",
    "        (\"system\", \"You are a helpful assistent. Answer best of your ability in {language}\"),\n",
    "        MessagesPlaceholder(variable_name='messages')\n",
    "    ]\n",
    ")\n",
    "chain = prompt| model"
   ]
  },
  {
   "cell_type": "code",
   "execution_count": 34,
   "metadata": {},
   "outputs": [
    {
     "data": {
      "text/plain": [
       "'ನಮಸ್ಕಾರ, ಚನ್ನಪ್ಪ! ನಾನು ನಿಮಗಾಗಿ ಸಹಾಯಕನಾಗಿರುವುದಕ್ಕೆ ಸಂತೋಷ. ಏನಾದರೂ ನನಗಾಗಿ ಮಾಡಬೇಕೆ? \\n\\n'"
      ]
     },
     "execution_count": 34,
     "metadata": {},
     "output_type": "execute_result"
    }
   ],
   "source": [
    "response = chain.invoke({'messages':[HumanMessage(content='Hi my name is channappa')], \"language\":'Kannada'})\n",
    "response.content"
   ]
  },
  {
   "cell_type": "code",
   "execution_count": 35,
   "metadata": {},
   "outputs": [],
   "source": [
    "with_message_history = RunnableWithMessageHistory(\n",
    "    chain, \n",
    "    get_session_history,\n",
    "    input_messages_key=\"messages\"\n",
    ")"
   ]
  },
  {
   "cell_type": "code",
   "execution_count": 38,
   "metadata": {},
   "outputs": [
    {
     "data": {
      "text/plain": [
       "'नमस्ते, चानु! 😊  मुझे बहुत अच्छा लगा तुम्हें जानकर।  \\n\\nक्या मैं तुम्हारे लिए कुछ कर सकता हूँ? \\n'"
      ]
     },
     "execution_count": 38,
     "metadata": {},
     "output_type": "execute_result"
    }
   ],
   "source": [
    "config= {\"configurable\":{\"session_id\":\"chat3\"}}\n",
    "response = with_message_history.invoke(\n",
    "    {'messages':[HumanMessage(content='Hi my name is channu')], 'language':'hindi'},\n",
    "    config=config\n",
    ")\n",
    "response.content"
   ]
  },
  {
   "cell_type": "code",
   "execution_count": 43,
   "metadata": {},
   "outputs": [],
   "source": [
    "response = with_message_history.invoke(\n",
    "    {'messages':[HumanMessage(content='Whats my name?')], \"language\":'kannada'},\n",
    "    config=config\n",
    ")"
   ]
  },
  {
   "cell_type": "code",
   "execution_count": 44,
   "metadata": {},
   "outputs": [
    {
     "data": {
      "text/plain": [
       "'ನೀನು ಚಾನು. 😊 \\n\\nನನ್ನಿಂದ ಏನಾದರೂ ಬೇಕಾ?\\n'"
      ]
     },
     "execution_count": 44,
     "metadata": {},
     "output_type": "execute_result"
    }
   ],
   "source": [
    "response.content"
   ]
  },
  {
   "cell_type": "code",
   "execution_count": null,
   "metadata": {},
   "outputs": [],
   "source": [
    "from langchain_core.messages import SystemMessage, trim_messages\n",
    "trimmer = trim_messages(\n",
    "    max_tokens = 70,\n",
    "    strategy = 'last',\n",
    "    token_counter = model,\n",
    "    include_system = True,\n",
    "    allow_partial  = False,\n",
    "    start_on= 'human'\n",
    ")"
   ]
  }
 ],
 "metadata": {
  "kernelspec": {
   "display_name": "aienv",
   "language": "python",
   "name": "python3"
  },
  "language_info": {
   "codemirror_mode": {
    "name": "ipython",
    "version": 3
   },
   "file_extension": ".py",
   "mimetype": "text/x-python",
   "name": "python",
   "nbconvert_exporter": "python",
   "pygments_lexer": "ipython3",
   "version": "3.11.0"
  }
 },
 "nbformat": 4,
 "nbformat_minor": 2
}
